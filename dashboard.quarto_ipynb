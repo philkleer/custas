{
  "cells": [
    {
      "cell_type": "markdown",
      "metadata": {},
      "source": [
        "---\n",
        "title: 'Custas'\n",
        "author: 'Philipp Kleer'\n",
        "format: dashboard\n",
        "theme: [sandstone, ./assets/dashboard.scss]\n",
        "server: shiny\n",
        "execute: \n",
        "  eval: true\n",
        "  echo: false\n",
        "  kernel: python3\n",
        "---"
      ],
      "id": "fc4e517e"
    },
    {
      "cell_type": "code",
      "metadata": {},
      "source": [
        "#| label: preparations\n",
        "import plotly.express as px\n",
        "import pandas as pd\n",
        "from shiny import reactive, render\n",
        "from shiny.express import input, render, ui\n",
        "from shinywidgets import render_widget\n",
        "from datetime import datetime, timedelta\n",
        "from faicons import icon_svg\n",
        "\n",
        "df = pd.read_csv('data/custas.csv')\n",
        "# df['data'] = pd.to_datetime(df['data'])\n",
        "# df['data'] = df['data'].dt.strftime('%Y-%m')\n",
        "\n",
        "grouped_df = df.loc[(df['tipo'] != 'renda')].groupby(\n",
        "    ['data', 'tipo']).agg({'valor': 'sum'}).reset_index()\n",
        "\n",
        "df_avg = grouped_df.groupby('tipo').agg({'valor': 'mean'}).reset_index()"
      ],
      "id": "preparations",
      "execution_count": null,
      "outputs": []
    },
    {
      "cell_type": "markdown",
      "metadata": {},
      "source": [
        "# Overview\n",
        "\n",
        "## Row {height=40%}\n",
        "\n",
        "### {.sidebar}\n"
      ],
      "id": "d9a915be"
    },
    {
      "cell_type": "code",
      "metadata": {},
      "source": [
        "#| label: input-select-overview\n",
        "newest_month = df['data'].max()\n",
        "oldest_month = df['data'].min()\n",
        "\n",
        "newest_month_str = pd.to_datetime(newest_month).strftime('%Y-%m-%d')\n",
        "oldest_month_str = pd.to_datetime(oldest_month).strftime('%Y-%m-%d')\n",
        "\n",
        "ui.input_date_range(\n",
        "    \"daterange\", \"Date range:\",\n",
        "    start=oldest_month_str,\n",
        "    end=newest_month_str,\n",
        "    min=oldest_month_str,\n",
        "    max=newest_month_str,\n",
        "    format='yyyy-mm',\n",
        "    startview = \"year\",\n",
        "    language='pt-BR'\n",
        ")\n",
        "\n",
        "@reactive.calc\n",
        "def filtered_data():\n",
        "    data_selected = df.loc[(df['data'] >= input.daterange()[0].strftime('%Y-%m')) & (df['data'] <= input.daterange()[1].strftime('%Y-%m'))]\n",
        "    return data_selected"
      ],
      "id": "input-select-overview",
      "execution_count": null,
      "outputs": []
    },
    {
      "cell_type": "markdown",
      "metadata": {},
      "source": [
        "### Column\n"
      ],
      "id": "ae1ca7b7"
    },
    {
      "cell_type": "code",
      "metadata": {
        "content": "valuebox",
        "title": "Custas de apartamento (média)",
        "icon": "house-check",
        "color": "#579d9050"
      },
      "source": [
        "@render.text  \n",
        "def medio_1():  \n",
        "    data_selected = df.loc[(df['data'] >= input.daterange()[0].strftime('%Y-%m')) & (df['data'] <= input.daterange()[1].strftime('%Y-%m')) & (df['tipo'] == 'apartamento')]\n",
        "    mean_value = data_selected.groupby('data')['valor'].sum()\n",
        "\n",
        "    return f\"R$ {mean_value.mean():.2f}\"  "
      ],
      "id": "1037e8d1",
      "execution_count": null,
      "outputs": []
    },
    {
      "cell_type": "markdown",
      "metadata": {},
      "source": [
        "### Column"
      ],
      "id": "a57048ca"
    },
    {
      "cell_type": "code",
      "metadata": {
        "content": "valuebox",
        "title": "Custas de supermercados (média)",
        "icon": "basket2",
        "color": "#579d9050"
      },
      "source": [
        "@render.text  \n",
        "def medio_2():  \n",
        "    data_selected = df.loc[(df['data'] >= input.daterange()[0].strftime('%Y-%m')) & (df['data'] <= input.daterange()[1].strftime('%Y-%m')) & (df['tipo'] == 'supermercado')]\n",
        "    mean_value = data_selected.groupby('data')['valor'].sum()\n",
        "\n",
        "    return f\"R$ {mean_value.mean():.2f}\" "
      ],
      "id": "ade16556",
      "execution_count": null,
      "outputs": []
    },
    {
      "cell_type": "markdown",
      "metadata": {},
      "source": [
        "### Column"
      ],
      "id": "cc2265c6"
    },
    {
      "cell_type": "code",
      "metadata": {
        "content": "valuebox",
        "title": "Custas de lazer (média)",
        "icon": "balloon",
        "color": "#579d9050"
      },
      "source": [
        "@render.text  \n",
        "def medio_3():  \n",
        "    data_selected = df.loc[(df['data'] >= input.daterange()[0].strftime('%Y-%m')) & (df['data'] <= input.daterange()[1].strftime('%Y-%m')) & (df['tipo'] == 'lazer')]\n",
        "    mean_value = data_selected.groupby('data')['valor'].sum()\n",
        "\n",
        "    return f\"R$ {mean_value.mean():.2f}\" "
      ],
      "id": "5efe2480",
      "execution_count": null,
      "outputs": []
    },
    {
      "cell_type": "markdown",
      "metadata": {},
      "source": [
        "## Row {height=60%}\n",
        "\n",
        "### Column {width=45%}"
      ],
      "id": "4a61f99e"
    },
    {
      "cell_type": "code",
      "metadata": {},
      "source": [
        "#| label: lineplot\n",
        "@render_widget\n",
        "def plot_line():  \n",
        "    plotdata = filtered_data()\n",
        "    \n",
        "    plotdata_cleaned = plotdata.loc[(plotdata['tipo'] != 'renda')].groupby(\n",
        "    ['data', 'tipo']).agg({'valor': 'sum'}).reset_index()\n",
        "\n",
        "\n",
        "    line_plot = px.line(\n",
        "        data_frame=plotdata_cleaned.loc[(df['tipo'] != 'renda')], \n",
        "        x=\"data\", \n",
        "        y='valor', \n",
        "        color='tipo',\n",
        "        labels=dict(data=\"Mês\", valor=\"Valor (R$)\", tipo=\"Tipo\"),\n",
        "        color_discrete_map={\n",
        "            'apartamento':'#D81B60',\n",
        "            'lazer':'#1E88E5',\n",
        "            'outros':'#FFC107',\n",
        "            'supermercado':'#009E73'\n",
        "        }\n",
        "    ).update_layout(\n",
        "        xaxis_type='category',\n",
        "    )\n",
        "\n",
        "    line_plot.update_xaxes(\n",
        "        tickangle=60,\n",
        "        title_standoff=25\n",
        "    )    \n",
        "\n",
        "    line_plot.update_yaxes(\n",
        "        tick0=0, dtick=250\n",
        "    )\n",
        "\n",
        "    return line_plot"
      ],
      "id": "lineplot",
      "execution_count": null,
      "outputs": []
    },
    {
      "cell_type": "markdown",
      "metadata": {},
      "source": [
        "### Column {width=45%}"
      ],
      "id": "2cf0769f"
    },
    {
      "cell_type": "code",
      "metadata": {},
      "source": [
        "#| label: pieplot\n",
        "@render_widget\n",
        "def plot():  \n",
        "    plotdata = filtered_data()\n",
        "\n",
        "    pie_total = px.pie(\n",
        "        plotdata.loc[(df['tipo'] != 'renda')],\n",
        "        values='valor',  \n",
        "        names='tipo', \n",
        "        hole=0.5,\n",
        "        color='tipo', \n",
        "        color_discrete_map={\n",
        "            'apartamento':'#D81B60',\n",
        "            'lazer':'#1E88E5',\n",
        "            'outros':'#FFC107',\n",
        "            'supermercado':'#009E73'\n",
        "        }\n",
        "        )\n",
        "    return pie_total"
      ],
      "id": "pieplot",
      "execution_count": null,
      "outputs": []
    },
    {
      "cell_type": "markdown",
      "metadata": {},
      "source": [
        "# Monthly\n",
        "\n",
        "## Row \n",
        "### {.sidebar}\n"
      ],
      "id": "96c82104"
    },
    {
      "cell_type": "code",
      "metadata": {},
      "source": [
        "#| label: input-select\n",
        "def generate_month_range(start_month: str, end_month: str):\n",
        "    # Convert the start and end months to datetime objects\n",
        "    start_date = datetime.strptime(start_month, \"%Y-%m\")\n",
        "    end_date = datetime.strptime(end_month, \"%Y-%m\")\n",
        "\n",
        "    # Initialize the array and a temporary variable to track the current month\n",
        "    month_array = []\n",
        "    current_date = start_date\n",
        "\n",
        "    # Loop through each month from start to end, appending to the list\n",
        "    while current_date <= end_date:\n",
        "        month_array.append(current_date.strftime(\"%Y-%m\"))  # Append as string\n",
        "        # Move to the next month\n",
        "        current_date = (current_date.replace(day=1) + timedelta(days=31)).replace(day=1)\n",
        "\n",
        "    return month_array\n",
        "\n",
        "@reactive.effect\n",
        "def _():\n",
        "    start_month = input.daterange()[0].strftime('%Y-%m')\n",
        "    end_month = input.daterange()[1].strftime('%Y-%m')\n",
        "\n",
        "    # Generate the month range\n",
        "    months = generate_month_range(start_month, end_month)\n",
        "\n",
        "    input.month_select.choices = months\n",
        "\n",
        "    ui.insert_ui\n",
        "\n",
        "    ui.update_select(\n",
        "        \"month\",\n",
        "        choices=input.month_select.choices,\n",
        "        selected=input.month_select.choices[1]\n",
        "    )\n",
        "\n",
        "ui.input_select(\n",
        "    \"month\", \"Select month\", []\n",
        ")"
      ],
      "id": "input-select",
      "execution_count": null,
      "outputs": []
    },
    {
      "cell_type": "markdown",
      "metadata": {},
      "source": [
        "From the time frame selected in `overview` you can select a month to make the overviews for that specific month.\n",
        "\n",
        "### Column"
      ],
      "id": "14a1178c"
    },
    {
      "cell_type": "code",
      "metadata": {},
      "source": [
        "#| label: pieplot_month\n",
        "@render_widget\n",
        "def plot_month():  \n",
        "    pie_total = px.pie(\n",
        "        data_frame=df.loc[(df['data'] == str(input.month())) & (df['tipo'] != 'renda')],\n",
        "        values='valor',  \n",
        "        names='tipo', \n",
        "        color='tipo', \n",
        "        color_discrete_map={\n",
        "            'apartamento':'#D81B60',\n",
        "            'lazer':'#1E88E5',\n",
        "            'outros':'#FFC107',\n",
        "            'supermercado':'#009E73'\n",
        "        },\n",
        "        hole=0.5)\n",
        "    return pie_total"
      ],
      "id": "pieplot_month",
      "execution_count": null,
      "outputs": []
    },
    {
      "cell_type": "markdown",
      "metadata": {},
      "source": [
        "## Row {height=10%}\n",
        "\n",
        "### Column"
      ],
      "id": "c25518c2"
    },
    {
      "cell_type": "code",
      "metadata": {},
      "source": [
        "@render.text\n",
        "def valor_apartamento():\n",
        "    data = df.loc[(df['data'] == str(input.month())) & (df['tipo'].isin(['apartamento']))]\n",
        "\n",
        "    sum_value = round(data.valor.sum(), 2)\n",
        "    \n",
        "    return f'Gastos para apartamento: {sum_value}'"
      ],
      "id": "321d975e",
      "execution_count": null,
      "outputs": []
    },
    {
      "cell_type": "markdown",
      "metadata": {},
      "source": [
        "### Column\n"
      ],
      "id": "52caa1ea"
    },
    {
      "cell_type": "code",
      "metadata": {},
      "source": [
        "@render.text\n",
        "def valor_supermercado():\n",
        "    data = df.loc[(df['data'] == str(input.month())) & (df['tipo'].isin(['supermercado']))]\n",
        "\n",
        "    sum_value = round(data.valor.sum(), 2)\n",
        "    \n",
        "    return f'Gastos para supermercado: {sum_value}'"
      ],
      "id": "3dedcaab",
      "execution_count": null,
      "outputs": []
    },
    {
      "cell_type": "markdown",
      "metadata": {},
      "source": [
        "### Column"
      ],
      "id": "5b61afbf"
    },
    {
      "cell_type": "code",
      "metadata": {},
      "source": [
        "@render.text\n",
        "def valor_lazer():\n",
        "    data = df.loc[(df['data'] == str(input.month())) & (df['tipo'].isin(['lazer']))]\n",
        "\n",
        "    sum_value = round(data.valor.sum(), 2)\n",
        "    \n",
        "    return f'Gastos para lazer: {sum_value}'"
      ],
      "id": "5de2be1e",
      "execution_count": null,
      "outputs": []
    },
    {
      "cell_type": "markdown",
      "metadata": {},
      "source": [
        "### Column"
      ],
      "id": "544f0dfc"
    },
    {
      "cell_type": "code",
      "metadata": {},
      "source": [
        "@render.text\n",
        "def valor_outros():\n",
        "    data = df.loc[(df['data'] == str(input.month())) & (df['tipo'].isin(['outros']))]\n",
        "\n",
        "    sum_value = round(data.valor.sum(), 2)\n",
        "    \n",
        "    return f'Gastos para outros: {sum_value}'"
      ],
      "id": "2b66fd7d",
      "execution_count": null,
      "outputs": []
    },
    {
      "cell_type": "markdown",
      "metadata": {},
      "source": [
        "## Row {height=40%}\n",
        "\n",
        "### Column\n"
      ],
      "id": "62563099"
    },
    {
      "cell_type": "code",
      "metadata": {},
      "source": [
        "#| label: pieplot_apartamento\n",
        "@render_widget\n",
        "def plot_apartamento():  \n",
        "    pie_apartamento = px.pie(\n",
        "        data_frame=df.loc[(df['data'] == str(input.month())) & (df['tipo'].isin(['apartamento']))], \n",
        "        values='valor',  \n",
        "        names='label', \n",
        "        hole=0.5,\n",
        "        color='label', \n",
        "        color_discrete_map={\n",
        "            'Aluguél':'#D81B60',\n",
        "            'Energia':'#D81B6090',\n",
        "            'Oi! Fibra':'#D81B6060',\n",
        "            'Água':'#D81B6030',\n",
        "            'Gás': '#D81B6010'\n",
        "        }\n",
        "        )\n",
        "    return pie_apartamento"
      ],
      "id": "pieplot_apartamento",
      "execution_count": null,
      "outputs": []
    },
    {
      "cell_type": "markdown",
      "metadata": {},
      "source": [
        "### Column\n"
      ],
      "id": "d3a6758a"
    },
    {
      "cell_type": "code",
      "metadata": {},
      "source": [
        "#| label: pieplot_supermercado\n",
        "@render_widget\n",
        "def plot_supermercado():  \n",
        "    pie_supermercado = px.pie(\n",
        "        data_frame=df.loc[(df['data'] == str(input.month())) & (df['tipo'] == 'supermercado')], \n",
        "        values='valor',  \n",
        "        names='label', \n",
        "        color='label', \n",
        "        color_discrete_map={\n",
        "            'Arco-Mix':'#009E7390',\n",
        "            'Atacado':'#009E7360',\n",
        "            'Farmácia':'#009E7330'\n",
        "        },\n",
        "        hole=0.5)\n",
        "    return pie_supermercado"
      ],
      "id": "pieplot_supermercado",
      "execution_count": null,
      "outputs": []
    },
    {
      "cell_type": "markdown",
      "metadata": {},
      "source": [
        "### Column\n"
      ],
      "id": "94da6eca"
    },
    {
      "cell_type": "code",
      "metadata": {},
      "source": [
        "#| label: pieplot_lazer\n",
        "@render_widget\n",
        "def plot_lazer():  \n",
        "    pie_lazer = px.pie(\n",
        "        data_frame=df.loc[(df['data'] == str(input.month())) & (df['tipo'] == 'lazer')], \n",
        "        values='valor',  \n",
        "        names='label', \n",
        "        color='label', \n",
        "        color_discrete_map={\n",
        "            'Bebidas/Comidas':'#1E88E590',\n",
        "            'iFood':'#1E88E560',\n",
        "            'Museu/Cultura/Cinema':'#1E88E530'\n",
        "        },\n",
        "        hole=0.5)\n",
        "    return pie_lazer"
      ],
      "id": "pieplot_lazer",
      "execution_count": null,
      "outputs": []
    },
    {
      "cell_type": "markdown",
      "metadata": {},
      "source": [
        "### Column\n"
      ],
      "id": "74e904f5"
    },
    {
      "cell_type": "code",
      "metadata": {},
      "source": [
        "#| label: pieplot_outros\n",
        "@render_widget\n",
        "def plot_outros():  \n",
        "    pie_outros = px.pie(\n",
        "        data_frame=df.loc[(df['data'] == str(input.month())) & (df['tipo'] == 'outros')], \n",
        "        values='valor',  \n",
        "        names='label', \n",
        "        color='label', \n",
        "        color_discrete_map={\n",
        "            'Uber':'#1E88E590',\n",
        "            'Assinaturas':'#1E88E560',\n",
        "            'Mobiliário': '#1E88E530',\n",
        "            'Parcelamento Pai':'#1E88E505'\n",
        "        },\n",
        "        hole=0.5)\n",
        "    return pie_outros"
      ],
      "id": "pieplot_outros",
      "execution_count": null,
      "outputs": []
    },
    {
      "cell_type": "markdown",
      "metadata": {},
      "source": [
        "# Data"
      ],
      "id": "f09213a1"
    },
    {
      "cell_type": "code",
      "metadata": {},
      "source": [
        "#| label: data-exhibition\n",
        "\n",
        "ui.h2(\"Data from the selected months\")\n",
        "\n",
        "@render.data_frame  \n",
        "def penguins_df():\n",
        "    return render.DataGrid(filtered_data()) "
      ],
      "id": "data-exhibition",
      "execution_count": null,
      "outputs": []
    }
  ],
  "metadata": {
    "kernelspec": {
      "name": "python3",
      "language": "python",
      "display_name": "Python 3 (ipykernel)",
      "path": "/Library/Frameworks/Python.framework/Versions/3.13/share/jupyter/kernels/python3"
    }
  },
  "nbformat": 4,
  "nbformat_minor": 5
}